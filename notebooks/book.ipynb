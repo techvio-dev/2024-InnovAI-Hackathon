{
 "cells": [
  {
   "cell_type": "markdown",
   "metadata": {},
   "source": [
    "# Graph approach"
   ]
  },
  {
   "cell_type": "code",
   "execution_count": 3,
   "metadata": {},
   "outputs": [],
   "source": [
    "import pandas as pd\n",
    "import numpy as np\n",
    "import matplotlib.pyplot as plt\n",
    "import seaborn as sns\n",
    "import tqdm"
   ]
  },
  {
   "cell_type": "code",
   "execution_count": 6,
   "metadata": {},
   "outputs": [],
   "source": [
    "data = pd.read_csv('data/soil_climate_data.csv')"
   ]
  },
  {
   "cell_type": "code",
   "execution_count": 7,
   "metadata": {},
   "outputs": [],
   "source": [
    "# drop rows with missing values\n",
    "data = data.dropna()\n",
    "\n",
    "# drop rows with is_dry = 1\n",
    "data = data[data['is_dry'] == 0]"
   ]
  },
  {
   "cell_type": "code",
   "execution_count": 8,
   "metadata": {},
   "outputs": [],
   "source": [
    "# drop columns year and is_dry\n",
    "data = data.drop(columns=['year', 'is_dry'])"
   ]
  },
  {
   "cell_type": "code",
   "execution_count": 9,
   "metadata": {},
   "outputs": [],
   "source": [
    "data.reset_index(drop=True, inplace=True)"
   ]
  },
  {
   "cell_type": "code",
   "execution_count": 6,
   "metadata": {},
   "outputs": [
    {
     "name": "stdout",
     "output_type": "stream",
     "text": [
      "<class 'pandas.core.frame.DataFrame'>\n",
      "RangeIndex: 42626 entries, 0 to 42625\n",
      "Data columns (total 35 columns):\n",
      " #   Column                    Non-Null Count  Dtype  \n",
      "---  ------                    --------------  -----  \n",
      " 0   soil_ph_b0                42626 non-null  float64\n",
      " 1   soil_ph_b10               42626 non-null  float64\n",
      " 2   soil_ph_b100              42626 non-null  float64\n",
      " 3   soil_ph_b200              42626 non-null  float64\n",
      " 4   soil_ph_b30               42626 non-null  float64\n",
      " 5   soil_ph_b60               42626 non-null  float64\n",
      " 6   soil_carbon_b0            42626 non-null  float64\n",
      " 7   soil_carbon_b10           42626 non-null  float64\n",
      " 8   soil_carbon_b100          42626 non-null  float64\n",
      " 9   soil_carbon_b200          42626 non-null  float64\n",
      " 10  soil_carbon_b30           42626 non-null  float64\n",
      " 11  soil_carbon_b60           42626 non-null  float64\n",
      " 12  soil_sand_b0              42626 non-null  float64\n",
      " 13  soil_sand_b10             42626 non-null  float64\n",
      " 14  soil_sand_b100            42626 non-null  float64\n",
      " 15  soil_sand_b200            42626 non-null  float64\n",
      " 16  soil_sand_b30             42626 non-null  float64\n",
      " 17  soil_sand_b60             42626 non-null  float64\n",
      " 18  soil_silt_b0              42626 non-null  float64\n",
      " 19  soil_silt_b10             42626 non-null  float64\n",
      " 20  soil_silt_b100            42626 non-null  float64\n",
      " 21  soil_silt_b200            42626 non-null  float64\n",
      " 22  soil_silt_b30             42626 non-null  float64\n",
      " 23  soil_silt_b60             42626 non-null  float64\n",
      " 24  soil_clay_b0              42626 non-null  float64\n",
      " 25  soil_clay_b10             42626 non-null  float64\n",
      " 26  soil_clay_b100            42626 non-null  float64\n",
      " 27  soil_clay_b200            42626 non-null  float64\n",
      " 28  soil_clay_b30             42626 non-null  float64\n",
      " 29  soil_clay_b60             42626 non-null  float64\n",
      " 30  climate_conditions_ppt    42626 non-null  float64\n",
      " 31  climate_conditions_tmean  42626 non-null  float64\n",
      " 32  Lat                       42626 non-null  float64\n",
      " 33  Lon                       42626 non-null  float64\n",
      " 34  DepthToWater_m            42626 non-null  float64\n",
      "dtypes: float64(35)\n",
      "memory usage: 11.4 MB\n"
     ]
    }
   ],
   "source": [
    "data.info()"
   ]
  },
  {
   "cell_type": "code",
   "execution_count": 7,
   "metadata": {},
   "outputs": [
    {
     "name": "stderr",
     "output_type": "stream",
     "text": [
      "Adding nodes: 100%|██████████| 42626/42626 [00:01<00:00, 38874.61it/s]\n"
     ]
    }
   ],
   "source": [
    "import networkx as nx\n",
    "from geopy.distance import geodesic\n",
    "import pandas as pd\n",
    "import tqdm\n",
    "\n",
    "# Create a graph\n",
    "well_net = nx.Graph()\n",
    "\n",
    "# Add nodes (well locations)\n",
    "for i in tqdm.tqdm(range(data.shape[0]), desc='Adding nodes'):\n",
    "    well_net.add_node(i, pos=(data['Lat'][i], data['Lon'][i]))\n",
    "    # Add relevant node attributes explicitly\n",
    "    for col in ['Lat', 'Lon', 'DepthToWater_m']:  # Add only relevant columns\n",
    "        well_net.nodes[i][col] = data[col][i]"
   ]
  },
  {
   "cell_type": "code",
   "execution_count": 12,
   "metadata": {},
   "outputs": [
    {
     "name": "stderr",
     "output_type": "stream",
     "text": [
      "Computing edges: 100%|██████████| 43/43 [08:49<00:00, 12.31s/it]\n"
     ]
    }
   ],
   "source": [
    "import networkx as nx\n",
    "from scipy.spatial import KDTree\n",
    "from geopy.distance import geodesic\n",
    "import pandas as pd\n",
    "import tqdm\n",
    "\n",
    "# Function to compute edges for a batch of nodes\n",
    "def compute_edges_for_batch(start_idx, end_idx, tree, data, threshold_km):\n",
    "    edges = []\n",
    "    for i in range(start_idx, end_idx):\n",
    "        # Query neighbors within the threshold\n",
    "        neighbors = tree.query_ball_point((data['Lat'][i], data['Lon'][i]), threshold_km / 111)  # Approx degrees\n",
    "        for j in neighbors:\n",
    "            if i < j:  # Avoid duplicate edges\n",
    "                distance = geodesic((data['Lat'][i], data['Lon'][i]), (data['Lat'][j], data['Lon'][j])).kilometers\n",
    "                if distance < threshold_km:\n",
    "                    edges.append((i, j, distance))\n",
    "    return edges\n",
    "\n",
    "# Build the KDTree\n",
    "coords = data[['Lat', 'Lon']].values\n",
    "tree = KDTree(coords)\n",
    "\n",
    "# Threshold in kilometers\n",
    "threshold_km = 5\n",
    "\n",
    "# Split work into chunks for parallel processing\n",
    "from concurrent.futures import ThreadPoolExecutor\n",
    "batch_size = 1000\n",
    "num_batches = (data.shape[0] + batch_size - 1) // batch_size\n",
    "\n",
    "edges = []\n",
    "with ThreadPoolExecutor() as executor:\n",
    "    futures = [\n",
    "        executor.submit(\n",
    "            compute_edges_for_batch, \n",
    "            i * batch_size, \n",
    "            min((i + 1) * batch_size, data.shape[0]), \n",
    "            tree, \n",
    "            data, \n",
    "            threshold_km\n",
    "        )\n",
    "        for i in range(num_batches)\n",
    "    ]\n",
    "    for future in tqdm.tqdm(futures, desc=\"Computing edges\"):\n",
    "        edges.extend(future.result())\n",
    "\n",
    "# Add edges\n",
    "well_net.add_weighted_edges_from(edges)"
   ]
  },
  {
   "cell_type": "code",
   "execution_count": 16,
   "metadata": {},
   "outputs": [
    {
     "data": {
      "text/plain": [
       "Index(['soil_ph_b0', 'soil_ph_b10', 'soil_ph_b100', 'soil_ph_b200',\n",
       "       'soil_ph_b30', 'soil_ph_b60', 'soil_carbon_b0', 'soil_carbon_b10',\n",
       "       'soil_carbon_b100', 'soil_carbon_b200', 'soil_carbon_b30',\n",
       "       'soil_carbon_b60', 'soil_sand_b0', 'soil_sand_b10', 'soil_sand_b100',\n",
       "       'soil_sand_b200', 'soil_sand_b30', 'soil_sand_b60', 'soil_silt_b0',\n",
       "       'soil_silt_b10', 'soil_silt_b100', 'soil_silt_b200', 'soil_silt_b30',\n",
       "       'soil_silt_b60', 'soil_clay_b0', 'soil_clay_b10', 'soil_clay_b100',\n",
       "       'soil_clay_b200', 'soil_clay_b30', 'soil_clay_b60',\n",
       "       'climate_conditions_ppt', 'climate_conditions_tmean', 'Lat', 'Lon',\n",
       "       'DepthToWater_m'],\n",
       "      dtype='object')"
      ]
     },
     "execution_count": 16,
     "metadata": {},
     "output_type": "execute_result"
    }
   ],
   "source": [
    "data.columns"
   ]
  },
  {
   "cell_type": "code",
   "execution_count": 17,
   "metadata": {},
   "outputs": [
    {
     "name": "stderr",
     "output_type": "stream",
     "text": [
      "Adding node attributes: 100%|██████████| 42626/42626 [00:07<00:00, 5702.42it/s]\n"
     ]
    }
   ],
   "source": [
    "# add node attributes\n",
    "for i in tqdm.tqdm(range(data.shape[0]), desc='Adding node attributes'):\n",
    "    for col in data.columns:\n",
    "        well_net.nodes[i][col] = data[col][i]"
   ]
  },
  {
   "cell_type": "code",
   "execution_count": 18,
   "metadata": {},
   "outputs": [],
   "source": [
    "import pickle\n",
    "\n",
    "# save graph\n",
    "with open('bins/well_network.gpickle', 'wb') as f:\n",
    "    pickle.dump(well_net, f)"
   ]
  },
  {
   "cell_type": "code",
   "execution_count": 1,
   "metadata": {},
   "outputs": [],
   "source": [
    "import pickle\n",
    "\n",
    "# import graph\n",
    "with open('bins/well_network.gpickle', 'rb') as f:\n",
    "    well_net = pickle.load(f)"
   ]
  },
  {
   "cell_type": "code",
   "execution_count": 4,
   "metadata": {},
   "outputs": [
    {
     "name": "stdout",
     "output_type": "stream",
     "text": [
      "Number of nodes: 42626\n",
      "Number of edges: 3194458\n",
      "Average degree: 149.8830760568667\n",
      "Median edge weight: 2.4092642297010625\n"
     ]
    }
   ],
   "source": [
    "# explore the graph\n",
    "print('Number of nodes:', well_net.number_of_nodes())\n",
    "print('Number of edges:', well_net.number_of_edges())\n",
    "# compute average degree\n",
    "degrees = [well_net.degree(node) for node in well_net.nodes]\n",
    "print('Average degree:', np.mean(degrees))\n",
    "# compute average edge weight\n",
    "weights = [well_net.edges[edge]['weight'] for edge in well_net.edges]\n",
    "print('Median edge weight:', np.median(weights))"
   ]
  },
  {
   "cell_type": "code",
   "execution_count": null,
   "metadata": {},
   "outputs": [
    {
     "name": "stderr",
     "output_type": "stream",
     "text": [
      "Adding markers: 100%|██████████| 42626/42626 [00:17<00:00, 2479.37it/s]\n",
      "Adding edges: 100%|██████████| 3623559/3623559 [05:57<00:00, 10137.81it/s]\n"
     ]
    }
   ],
   "source": [
    "# plot an html interactive map of the wells using folium\n",
    "import folium\n",
    "\n",
    "# create a map\n",
    "m = folium.Map(location=[data['Lat'].mean(), data['Lon'].mean()], zoom_start=10)\n",
    "\n",
    "# add markers for each well\n",
    "for i in tqdm.tqdm(range(data.shape[0]), desc='Adding markers'):\n",
    "    folium.Marker([data['Lat'][i], data['Lon'][i]], popup=f'Well {i}').add_to(m)\n",
    "    # add attributes as popup text\n",
    "    popup_text = ''\n",
    "    for col in data.columns:\n",
    "        popup_text += f'{col}: {data[col][i]}<br>'\n",
    "    folium.Marker([data['Lat'][i], data['Lon'][i]], popup=popup_text).add_to(m)\n",
    "    \n",
    "# add edges to the map\n",
    "for edge in tqdm.tqdm(well_net.edges, desc='Adding edges'):\n",
    "    i, j = edge\n",
    "    folium.PolyLine([well_net.nodes[i]['pos'], well_net.nodes[j]['pos']], color='blue').add_to(m)\n",
    "    # add edge weight as popup text\n",
    "    folium.Marker([(well_net.nodes[i]['pos'][0] + well_net.nodes[j]['pos'][0]) / 2,\n",
    "                   (well_net.nodes[i]['pos'][1] + well_net.nodes[j]['pos'][1]) / 2],\n",
    "                  popup=f'Edge weight: {well_net.edges[edge][\"weight\"]:.4f}').add_to(m)\n",
    "    \n",
    "# save the map\n",
    "m.save('maps/well_map.html')"
   ]
  },
  {
   "cell_type": "code",
   "execution_count": 10,
   "metadata": {},
   "outputs": [
    {
     "name": "stderr",
     "output_type": "stream",
     "text": [
      "Computing expected depth of water: 100%|██████████| 42626/42626 [00:40<00:00, 1058.47it/s] \n"
     ]
    },
    {
     "name": "stdout",
     "output_type": "stream",
     "text": [
      "Mean error: 8.518130068364382\n",
      "Median error: 1.7034843400887318\n"
     ]
    }
   ],
   "source": [
    "# iterate over nodes and aggregate depthofwater values for each node weighted by the distance between nodee\n",
    "# compute the average depth of water for each node\n",
    "for node in tqdm.tqdm(well_net.nodes, desc='Computing expected depth of water'):\n",
    "    i = node\n",
    "    well_net.nodes[i]['exp_depthofwater'] = 0\n",
    "    total_weight = 0\n",
    "    for neighbor in well_net.neighbors(i):\n",
    "        j = neighbor\n",
    "        weight = 1 / well_net.edges[i, j]['weight'] if well_net.edges[i, j]['weight'] > 0 else 0\n",
    "        well_net.nodes[i]['exp_depthofwater'] += data['DepthToWater_m'][j] * weight\n",
    "        total_weight += weight\n",
    "        \n",
    "    if total_weight > 0:\n",
    "        well_net.nodes[i]['exp_depthofwater'] /= total_weight\n",
    "    \n",
    "# compute and show the error of the expected depth of water\n",
    "errors = []\n",
    "for node in well_net.nodes:\n",
    "    i = node\n",
    "    errors.append(np.abs(well_net.nodes[i]['exp_depthofwater'] - data['DepthToWater_m'][i]))\n",
    "print('Mean error:', np.mean(errors))\n",
    "print('Median error:', np.median(errors))"
   ]
  },
  {
   "cell_type": "code",
   "execution_count": 20,
   "metadata": {},
   "outputs": [
    {
     "name": "stdout",
     "output_type": "stream",
     "text": [
      "Max error: 907.4018\n",
      "Node with max error: 1212\n"
     ]
    }
   ],
   "source": [
    "# max error\n",
    "max_error = np.max(errors)\n",
    "argmax_error = np.argmax(errors)\n",
    "print('Max error:', max_error)\n",
    "print('Node with max error:', argmax_error)"
   ]
  },
  {
   "cell_type": "code",
   "execution_count": 21,
   "metadata": {},
   "outputs": [
    {
     "name": "stdout",
     "output_type": "stream",
     "text": [
      "Node 1212:\n",
      "Depth of water: 907.4018\n",
      "Expected depth of water: 0\n",
      "Neighbors:\n"
     ]
    }
   ],
   "source": [
    "# check node 1212 and its neighbors\n",
    "i = 1212\n",
    "print('Node 1212:')\n",
    "print('Depth of water:', data['DepthToWater_m'][i])\n",
    "print('Expected depth of water:', well_net.nodes[i]['exp_depthofwater'])\n",
    "print('Neighbors:')\n",
    "for neighbor in well_net.neighbors(i):\n",
    "    j = neighbor\n",
    "    print(f'Node {j}:')\n",
    "    print('Depth of water:', data['DepthToWater_m'][j])\n",
    "    print('Distance:', well_net.edges[i, j]['weight'])\n",
    "    print('Weight:', 1 / well_net.edges[i, j]['weight'])\n"
   ]
  },
  {
   "cell_type": "code",
   "execution_count": 22,
   "metadata": {},
   "outputs": [
    {
     "name": "stdout",
     "output_type": "stream",
     "text": [
      "Number of nodes without neighbors: 5181\n",
      "Percentage of nodes without neighbors: 12.154553558860789\n"
     ]
    }
   ],
   "source": [
    "# compute number of nodes without neighbors\n",
    "no_neighbors = 0\n",
    "for node in well_net.nodes:\n",
    "    i = node\n",
    "    if well_net.degree(i) == 0:\n",
    "        no_neighbors += 1\n",
    "print('Number of nodes without neighbors:', no_neighbors)\n",
    "# as a percentage\n",
    "print('Percentage of nodes without neighbors:', no_neighbors / well_net.number_of_nodes() * 100)"
   ]
  },
  {
   "cell_type": "markdown",
   "metadata": {},
   "source": [
    "# combining KNN and RF"
   ]
  },
  {
   "cell_type": "code",
   "execution_count": 25,
   "metadata": {},
   "outputs": [],
   "source": [
    "# load rf model\n",
    "import pickle\n",
    "\n",
    "with open('bins/rf_depth_to_water.pkl', 'rb') as f:\n",
    "    rf_model = pickle.load(f)\n",
    "    "
   ]
  },
  {
   "cell_type": "code",
   "execution_count": 27,
   "metadata": {},
   "outputs": [],
   "source": [
    "import warnings\n",
    "warnings.filterwarnings('ignore')"
   ]
  },
  {
   "cell_type": "code",
   "execution_count": null,
   "metadata": {},
   "outputs": [
    {
     "name": "stderr",
     "output_type": "stream",
     "text": [
      "Predicting depth of water for nodes without neighbors: 100%|██████████| 42626/42626 [00:17<00:00, 2376.09it/s] \n"
     ]
    }
   ],
   "source": [
    "# predict depth of water for each node using the random forest model if the node has no neighbors\n",
    "for node in tqdm.tqdm(well_net.nodes, desc='Predicting depth of water for nodes without neighbors'):\n",
    "    i = node\n",
    "    if well_net.degree(i) == 0:\n",
    "        # attributes for prediction\n",
    "        X = data.iloc[i].values.reshape(1, -1)\n",
    "        # remove DepthToWater_m\n",
    "        X = X[:, :-1]\n",
    "        # predict\n",
    "        well_net.nodes[i]['exp_depthofwater'] = rf_model.predict(X)[0]\n"
   ]
  },
  {
   "cell_type": "code",
   "execution_count": 44,
   "metadata": {},
   "outputs": [
    {
     "name": "stdout",
     "output_type": "stream",
     "text": [
      "Mean error: 5.687457341032282\n",
      "Median error: 1.5320369255452828\n",
      "Max error: 685.0366404566666\n",
      "Node with max error: 10237\n",
      "Standard deviation: 14.708344289437633\n"
     ]
    }
   ],
   "source": [
    "# compute and show the error of the expected depth of water\n",
    "errors = []\n",
    "for node in well_net.nodes:\n",
    "    i = node\n",
    "    errors.append(np.abs(well_net.nodes[i]['exp_depthofwater'] - data['DepthToWater_m'][i]))\n",
    "print('Mean error:', np.mean(errors))\n",
    "print('Median error:', np.median(errors))\n",
    "print('Max error:', np.max(errors))\n",
    "print('Node with max error:', np.argmax(errors))\n",
    "# std deviation\n",
    "print('Standard deviation:', np.std(errors))"
   ]
  },
  {
   "cell_type": "code",
   "execution_count": null,
   "metadata": {},
   "outputs": [
    {
     "data": {
      "image/png": "[encoded data removed]",
      "text/plain": [
       "<Figure size 1500x600 with 1 Axes>"
      ]
     },
     "metadata": {},
     "output_type": "display_data"
    }
   ],
   "source": [
    "# plot the distribution of errors with a histogram for errors less than 50\n",
    "plt.figure(figsize=(15, 6))\n",
    "sns.histplot(errors, bins=1000, kde=True)\n",
    "plt.title('Distribution of errors')\n",
    "plt.xlabel('Error')\n",
    "plt.ylabel('Frequency')\n",
    "plt.xlim(0, 100)\n",
    "plt.show()"
   ]
  },
  {
   "cell_type": "code",
   "execution_count": null,
   "metadata": {},
   "outputs": [
    {
     "name": "stderr",
     "output_type": "stream",
     "text": [
      "Computing and predicting depth of water: 100%|██████████| 42626/42626 [00:57<00:00, 747.68it/s] \n"
     ]
    }
   ],
   "source": [
    "def compute_and_predict_depth_of_water(well_net, data, rf_model):\n",
    "    for node in tqdm.tqdm(well_net.nodes, desc='Computing and predicting depth of water'):\n",
    "        i = node\n",
    "        if well_net.degree(i) > 0:\n",
    "            well_net.nodes[i]['exp_depthofwater'] = 0\n",
    "            total_weight = 0\n",
    "            for neighbor in well_net.neighbors(i):\n",
    "                j = neighbor\n",
    "                weight = 1 / well_net.edges[i, j]['weight'] if well_net.edges[i, j]['weight'] > 0 else 0\n",
    "                well_net.nodes[i]['exp_depthofwater'] += data['DepthToWater_m'][j] * weight\n",
    "                total_weight += weight\n",
    "\n",
    "            if total_weight > 0:\n",
    "                well_net.nodes[i]['exp_depthofwater'] /= total_weight\n",
    "        else:\n",
    "            # Attributes for prediction\n",
    "            X = data.iloc[i].values.reshape(1, -1)\n",
    "            # Remove DepthToWater_m\n",
    "            X = X[:, :-1]\n",
    "            # Predict\n",
    "            well_net.nodes[i]['exp_depthofwater'] = rf_model.predict(X)[0]\n",
    "\n",
    "# Call the function\n",
    "compute_and_predict_depth_of_water(well_net, data, rf_model)"
   ]
  },
  {
   "cell_type": "code",
   "execution_count": 73,
   "metadata": {},
   "outputs": [],
   "source": [
    "import ee\n",
    "\n",
    "# Authenticate to the Earth Engine servers\n",
    "ee.Authenticate()\n",
    "\n",
    "# Initialize the Earth Engine API\n",
    "ee.Initialize(project='morocco-ai-2024')\n",
    "\n",
    "def get_soil_climate_data(well_coordinates):\n",
    "    # inverse the coordinates\n",
    "    well_coordinates = [well_coordinates[1], well_coordinates[0]]\n",
    "    well_point = ee.Geometry.Point(well_coordinates)\n",
    "\n",
    "    # Climate Data (Temperature and Precipitation)\n",
    "    climate_data = ee.ImageCollection(\"OREGONSTATE/PRISM/AN81m\") \\\n",
    "        .filterDate('2023-01-01', '2023-12-31') \\\n",
    "        .select(['tmean', 'ppt'])\n",
    "    climate_clip = climate_data.mean().clip(well_point.buffer(1000))\n",
    "    climate_stats = climate_clip.reduceRegion(\n",
    "        reducer=ee.Reducer.mean(),\n",
    "        geometry=well_point,\n",
    "        scale=1000\n",
    "    )\n",
    "\n",
    "    # Soil Data\n",
    "    soil_ph_data = ee.Image(\"OpenLandMap/SOL/SOL_PH-H2O_USDA-4C1A2A_M/v02\")\n",
    "    soil_ph_clip = soil_ph_data.clip(well_point.buffer(30))\n",
    "    soil_ph_stats = soil_ph_clip.reduceRegion(\n",
    "        reducer=ee.Reducer.mean(),\n",
    "        geometry=well_point,\n",
    "        scale=30\n",
    "    )\n",
    "\n",
    "    soil_carbon_data = ee.Image(\"OpenLandMap/SOL/SOL_ORGANIC-CARBON_USDA-6A1C_M/v02\")\n",
    "    soil_carbon_clip = soil_carbon_data.clip(well_point.buffer(30))\n",
    "    soil_carbon_stats = soil_carbon_clip.reduceRegion(\n",
    "        reducer=ee.Reducer.mean(),\n",
    "        geometry=well_point,\n",
    "        scale=30\n",
    "    )\n",
    "\n",
    "    soil_sand_data = ee.Image(\"OpenLandMap/SOL/SOL_SAND-WFRACTION_USDA-3A1A1A_M/v02\")\n",
    "    soil_sand_clip = soil_sand_data.clip(well_point.buffer(30))\n",
    "    soil_sand_stats = soil_sand_clip.reduceRegion(\n",
    "        reducer=ee.Reducer.mean(),\n",
    "        geometry=well_point,\n",
    "        scale=30\n",
    "    )\n",
    "\n",
    "    soil_silt_data = ee.Image(\"OpenLandMap/SOL/SOL_TEXTURE-CLASS_USDA-TT_M/v02\")\n",
    "    soil_silt_clip = soil_silt_data.clip(well_point.buffer(30))\n",
    "    soil_silt_stats = soil_silt_clip.reduceRegion(\n",
    "        reducer=ee.Reducer.mean(),\n",
    "        geometry=well_point,\n",
    "        scale=30\n",
    "    )\n",
    "\n",
    "    soil_clay_data = ee.Image(\"OpenLandMap/SOL/SOL_CLAY-WFRACTION_USDA-3A1A1A_M/v02\")\n",
    "    soil_clay_clip = soil_clay_data.clip(well_point.buffer(30))\n",
    "    soil_clay_stats = soil_clay_clip.reduceRegion(\n",
    "        reducer=ee.Reducer.mean(),\n",
    "        geometry=well_point,\n",
    "        scale=30\n",
    "    )\n",
    "\n",
    "    combined_data = {\n",
    "        \"soil_ph\": soil_ph_stats.getInfo(),\n",
    "        \"soil_carbon\": soil_carbon_stats.getInfo(),\n",
    "        \"soil_sand\": soil_sand_stats.getInfo(),\n",
    "        \"soil_silt\": soil_silt_stats.getInfo(),\n",
    "        \"soil_clay\": soil_clay_stats.getInfo(),\n",
    "        \"climate_conditions\": climate_stats.getInfo(),\n",
    "    }\n",
    "    \n",
    "\n",
    "    return combined_data"
   ]
  },
  {
   "cell_type": "code",
   "execution_count": null,
   "metadata": {},
   "outputs": [],
   "source": [
    "from geopy.distance import geodesic\n",
    "import numpy as np\n",
    "\n",
    "def json_to_dataframe(json_data):\n",
    "    # Flatten the JSON structure and format it for the final dataframe\n",
    "    data = {}\n",
    "    for key in json_data.keys():\n",
    "        if isinstance(json_data[key], dict):\n",
    "            sub_data = json_to_dataframe(json_data[key])\n",
    "            for sub_key in sub_data.keys():\n",
    "                data[f\"{key}_{sub_key}\"] = sub_data[sub_key]\n",
    "        else:\n",
    "            data[key] = json_data[key]\n",
    "    return data\n",
    "\n",
    "def compute_and_predict_depth_of_water(well_net, rf_model, new_location_coords, threshold_km=5):\n",
    "    # Temporarily add the new location node to the graph\n",
    "    well_net.add_node('new_node')\n",
    "    \n",
    "    # Get the latitude and longitude of the new location\n",
    "    new_lat, new_lon = new_location_coords\n",
    "\n",
    "    # Create temporary edges from the new node to nearby nodes based on the distance threshold\n",
    "    for i in well_net.nodes:\n",
    "        if i != 'new_node':  # Avoid connecting the node to itself\n",
    "            # Get the coordinates of the existing node (Lat, Lon) from the graph attributes\n",
    "            existing_lat = well_net.nodes[i]['Lat']\n",
    "            existing_lon = well_net.nodes[i]['Lon']\n",
    "            \n",
    "            # Calculate the geodesic distance between the new node and the existing node\n",
    "            distance = geodesic((new_lat, new_lon), (existing_lat, existing_lon)).kilometers\n",
    "                        \n",
    "            # If the distance is below the threshold, add an edge\n",
    "            if distance < threshold_km:\n",
    "                well_net.add_edge('new_node', i, weight=distance)\n",
    "    \n",
    "    # Initialize predicted depth\n",
    "    predicted_depth = None\n",
    "    \n",
    "    # If the new node has neighbors, compute its expected water depth using the weighted sum method\n",
    "    if well_net.degree('new_node') >0:\n",
    "        print('Computing expected depth of water for the new location using the neighborhood convolution method...')\n",
    "        total_weight = 0\n",
    "        weighted_sum = 0\n",
    "        \n",
    "        for neighbor in well_net.neighbors('new_node'):\n",
    "            weight = 1 / well_net.edges['new_node', neighbor]['weight'] if well_net.edges['new_node', neighbor]['weight'] > 0 else 0\n",
    "            weighted_sum += well_net.nodes[neighbor]['DepthToWater_m'] * weight\n",
    "            total_weight += weight\n",
    "        \n",
    "        if total_weight > 0:\n",
    "            predicted_depth = weighted_sum / total_weight\n",
    "\n",
    "    # If no neighbors, fall back to the Random Forest model\n",
    "    else:\n",
    "        print('No neighbors found for the new location. Using the Random Forest model for prediction...')\n",
    "        # Fetch the extra soil and climate data for the new location using GEE API\n",
    "        extra_data = get_soil_climate_data(new_location_coords)\n",
    "        \n",
    "        print(new_location_coords)\n",
    "        \n",
    "        # Flatten the fetched data into a dataframe-compatible format\n",
    "        extra_data_flat = json_to_dataframe(extra_data)\n",
    "        \n",
    "        # Create the final feature vector for the new location\n",
    "        combined_features = {\n",
    "            'Lat': new_lat,\n",
    "            'Lon': new_lon,\n",
    "        }\n",
    "\n",
    "        # Merge the soil and climate data into the combined features dictionary\n",
    "        combined_features.update(extra_data_flat)\n",
    "\n",
    "        # Convert the combined features to a DataFrame or appropriate structure for prediction\n",
    "        combined_features_vector = np.array(list(combined_features.values())).reshape(1, -1)\n",
    "        # add feature names\n",
    "        features = [\"soil_ph_b0\", \"soil_ph_b10\", \"soil_ph_b100\", \"soil_ph_b200\", \"soil_ph_b30\", \"soil_ph_b60\", \n",
    "                    \"soil_carbon_b0\", \"soil_carbon_b10\", \"soil_carbon_b100\", \"soil_carbon_b200\", \"soil_carbon_b30\", \"soil_carbon_b60\", \n",
    "                    \"soil_sand_b0\", \"soil_sand_b10\", \"soil_sand_b100\", \"soil_sand_b200\", \"soil_sand_b30\", \"soil_sand_b60\", \n",
    "                    \"soil_silt_b0\", \"soil_silt_b10\", \"soil_silt_b100\", \"soil_silt_b200\", \"soil_silt_b30\", \"soil_silt_b60\", \n",
    "                    \"soil_clay_b0\", \"soil_clay_b10\", \"soil_clay_b100\", \"soil_clay_b200\", \"soil_clay_b30\", \"soil_clay_b60\", \n",
    "                    \"climate_conditions_ppt\", \"climate_conditions_tmean\", \"Lat\", \"Lon\"\n",
    "                    ]\n",
    "        combined_features_vector = pd.DataFrame(combined_features_vector, columns=features)\n",
    "        # Use the combined feature vector to predict the depth using Random Forest\n",
    "        predicted_depth = rf_model.predict(combined_features_vector)[0]\n",
    "\n",
    "    # Remove the temporary node and edges from the graph\n",
    "    well_net.remove_node('new_node')\n",
    "    \n",
    "    return predicted_depth"
   ]
  },
  {
   "cell_type": "code",
   "execution_count": null,
   "metadata": {},
   "outputs": [
    {
     "name": "stdout",
     "output_type": "stream",
     "text": [
      "No neighbors found for the new location. Using the Random Forest model for prediction...\n",
      "(37.8992, -111.4388)\n",
      "Predicted Depth of Water at new location: 48.357260200000034\n"
     ]
    }
   ],
   "source": [
    "# load rf model\n",
    "import pickle\n",
    "\n",
    "with open('bins/rf_depth_to_water.pkl', 'rb') as f:\n",
    "    rf_model = pickle.load(f)\n",
    "\n",
    "with open('bins/well_network.gpickle', 'rb') as f:\n",
    "    well_net = pickle.load(f)\n",
    "\n",
    "# # make a new location based on a node already in the graph to test the function for a node with neighbors\n",
    "# # select all nodes with no neighbors\n",
    "# nodes_neighbors = [node for node in well_net.nodes if well_net.degree(node) > 0]\n",
    "# # randomly choose a node from the nodes with no neighbors\n",
    "# node = np.random.choice(nodes_neighbors)\n",
    "\n",
    "# make a new location based on a node not in the graph to test the function for a node without neighbors\n",
    "# select all nodes with no neighbors\n",
    "nodes_no_neighbors = [node for node in well_net.nodes if well_net.degree(node) == 0]\n",
    "# randomly choose a node from the nodes with no neighbors\n",
    "node = np.random.choice(nodes_no_neighbors)\n",
    "\n",
    "new_location_coords = well_net.nodes[node]['Lat'], well_net.nodes[node]['Lon']\n",
    "\n",
    "# Call the function to predict the depth of water at the new location\n",
    "predicted_depth = compute_and_predict_depth_of_water(well_net, rf_model, new_location_coords)\n",
    "print(f\"Predicted Depth of Water at new location: {predicted_depth}\")"
   ]
  }
 ],
 "metadata": {
  "kernelspec": {
   "display_name": "base",
   "language": "python",
   "name": "python3"
  },
  "language_info": {
   "codemirror_mode": {
    "name": "ipython",
    "version": 3
   },
   "file_extension": ".py",
   "mimetype": "text/x-python",
   "name": "python",
   "nbconvert_exporter": "python",
   "pygments_lexer": "ipython3",
   "version": "3.8.19"
  }
 },
 "nbformat": 4,
 "nbformat_minor": 2
}
